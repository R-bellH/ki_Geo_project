{
 "cells": [
  {
   "cell_type": "code",
   "execution_count": null,
   "id": "initial_id",
   "metadata": {
    "collapsed": true
   },
   "source": [
    "!pip install oauthlib\n",
    "!pip install requests_oauthlib\n",
    "!pip install sentinelhub"
   ],
   "outputs": []
  },
  {
   "metadata": {},
   "cell_type": "code",
   "execution_count": null,
   "source": [
    "import pandas as pd\n",
    "from PIL import Image\n",
    "from datetime import datetime, timedelta\n",
    "import requests\n",
    "from data_mining.get_sat2_images import call_sentinel\n",
    "# from data_mining.read_firenews import fetch_fire_news\n",
    "import data_mining.read_weather as weather\n",
    "from datetime import datetime, timedelta\n",
    "import tensorflow as tf\n",
    "import pandas as pd\n",
    "from keras.models import Model\n",
    "from keras.layers import LSTM, Dense, Input, TimeDistributed, Flatten, Concatenate, Reshape, Masking\n",
    "import os\n",
    "from data_to_tensor import location2sentence\n",
    "from tensorflow.keras.utils import Sequence\n",
    "import numpy as np\n"
   ],
   "id": "5ed530472aa266e6",
   "outputs": []
  },
  {
   "metadata": {},
   "cell_type": "markdown",
   "source": [
    "# Gather data\n",
    "## dates"
   ],
   "id": "d089b3522b93a9ca"
  },
  {
   "metadata": {},
   "cell_type": "markdown",
   "source": "### fetch from fire news",
   "id": "ce8e53767cac8514"
  },
  {
   "metadata": {},
   "cell_type": "code",
   "execution_count": null,
   "source": [
    "# start_date=\"2022-05-01\"\n",
    "# end_date=\"2025-06-10\"\n",
    "# fire_data=fetch_fire_news(start_date,end_date,verbose=True)\n",
    "# fetch_fire_news(start_date,end_date,save=True)"
   ],
   "id": "3d111e3af4e4de41",
   "outputs": []
  },
  {
   "metadata": {},
   "cell_type": "markdown",
   "source": "## ",
   "id": "53872fc20b11da74"
  }
 ],
 "metadata": {
  "kernelspec": {
   "display_name": "Python 3",
   "language": "python",
   "name": "python3"
  },
  "language_info": {
   "codemirror_mode": {
    "name": "ipython",
    "version": 2
   },
   "file_extension": ".py",
   "mimetype": "text/x-python",
   "name": "python",
   "nbconvert_exporter": "python",
   "pygments_lexer": "ipython2",
   "version": "2.7.6"
  }
 },
 "nbformat": 4,
 "nbformat_minor": 5
}
