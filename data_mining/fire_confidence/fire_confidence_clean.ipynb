{
 "cells": [
  {
   "cell_type": "markdown",
   "metadata": {},
   "source": [
    "## Script to clean wildfire data fetched from the NASA FIRMS API \n",
    "This dataset represents dates, times and coordinates rated with a fire confidence level 'high' based on Visible Infrared Imaging Radiometer Suite (VIIRS) sensors\n",
    "1. Latitude and longitude are rounded to 2 decimal points \n",
    "2. Coordinates within a 0.2x0.2 degree tile on the same date are united to a single point (lowest bottom left of a tile)"
   ]
  },
  {
   "cell_type": "code",
   "execution_count": 37,
   "metadata": {},
   "outputs": [],
   "source": [
    "import pandas as pd\n",
    "import numpy as np\n",
    "\n",
    "df = pd.read_csv('fire_confidence.csv')\n",
    "\n",
    "# round latitude and longitude to 2 decimal points\n",
    "df['latitude'] = df['latitude'].round(2)\n",
    "df['longitude'] = df['longitude'].round(2)\n",
    "\n",
    "# create new columns latitude_clean and longitude_clean\n",
    "df['latitude_clean'] = df['latitude']\n",
    "df['longitude_clean'] = df['longitude']\n",
    "df.rename(columns={'acq_date': 'date', 'acq_time' : 'time'}, inplace=True)\n"
   ]
  },
  {
   "cell_type": "code",
   "execution_count": 41,
   "metadata": {},
   "outputs": [
    {
     "name": "stdout",
     "output_type": "stream",
     "text": [
      "uniting 38.8 15.21 and 38.79 15.21  from 2022-12-09\n",
      "uniting 37.75 15.02 and 37.75 15.01  from 2022-12-26\n",
      "uniting 37.76 15.03 and 37.76 15.02  from 2023-01-06\n",
      "uniting 37.75 15.02 and 37.75 15.01  from 2023-01-16\n",
      "uniting 44.28 7.65 and 44.28 7.64  from 2023-04-01\n",
      "uniting 37.31 14.45 and 37.27 14.42  from 2023-07-12\n",
      "uniting 37.18 14.08 and 37.17 14.08  from 2023-07-18\n",
      "uniting 41.64 15.67 and 41.64 15.66  from 2023-07-19\n",
      "uniting 37.15 14.08 and 37.15 14.06  from 2023-07-20\n",
      "uniting 37.49 14.35 and 37.49 14.34  from 2023-07-24\n",
      "uniting 39.35 9.56 and 39.28 9.56  from 2023-08-06\n",
      "uniting 40.06 18.25 and 40.06 18.24  from 2023-08-20\n",
      "uniting 38.97 17.01 and 38.96 16.99  from 2023-09-04\n",
      "uniting 40.45 18.18 and 40.45 18.17  from 2023-10-07\n",
      "uniting 37.98 13.66 and 37.98 13.65  from 2023-10-20\n",
      "uniting 37.74 14.99 and 37.73 14.99  from 2023-11-13\n"
     ]
    }
   ],
   "source": [
    "grouped_df = df.groupby('date')\n",
    "processed_rows = []\n",
    "\n",
    "def coordinates_part_of_same_tile(lat_corner, lon_corner, lat, lon):\n",
    "    if lat_corner <= lat <= lat_corner + 0.2 and lon_corner <= lon <= lon_corner + 0.2:\n",
    "        return True\n",
    "    else:\n",
    "        return False\n",
    "\n",
    "def coordinates_same(lat_corner, lon_corner, lat, lon):\n",
    "    if lat == lat_corner and lon == lon_corner:\n",
    "        return True\n",
    "    else:\n",
    "        return False\n",
    "\n",
    "\n",
    "\n",
    "# Iterate over each group\n",
    "for date, group in grouped_df:\n",
    "\n",
    "    # Initialize lowest coordinates from the first row of the group\n",
    "    lowest_lat = group.iloc[0]['latitude_clean']\n",
    "    lowest_lon = group.iloc[0]['longitude_clean']\n",
    "\n",
    "    # Iterate over each row in the group\n",
    "    for index, row in group.iterrows():\n",
    "        lat = row['latitude_clean']\n",
    "        lon = row['longitude_clean']\n",
    "\n",
    "        if coordinates_same (lowest_lat, lowest_lon, lat, lon):\n",
    "            continue\n",
    "\n",
    "        # Check if current coordinates are part of the same tile\n",
    "        if coordinates_part_of_same_tile(lowest_lat, lowest_lon, lat, lon):\n",
    "            print(f\"uniting {lowest_lat} {lowest_lon} and {lat} {lon} from {row['date']}\")\n",
    "            df.loc[index, 'latitude_clean'] = lowest_lat\n",
    "            df.loc[index, 'longitude_clean'] = lowest_lon\n",
    "        elif coordinates_part_of_same_tile(lat, lon, lowest_lat, lowest_lon):\n",
    "            print(f\"uniting {lowest_lat} {lowest_lon} and {lat} {lon}  from {row['date']}\")\n",
    "            lowest_lat = lat\n",
    "            lowest_lon = lon\n",
    "\n",
    "        processed_rows.append(row)\n",
    "\n",
    "# Create a new DataFrame from the processed rows\n",
    "processed_df = pd.DataFrame(processed_rows)\n",
    "\n",
    "# Save the DataFrame to CSV\n",
    "processed_df.to_csv('fire_confidence_clean.csv', index=False)\n"
   ]
  },
  {
   "cell_type": "code",
   "execution_count": null,
   "metadata": {},
   "outputs": [],
   "source": []
  },
  {
   "cell_type": "code",
   "execution_count": null,
   "metadata": {},
   "outputs": [],
   "source": []
  }
 ],
 "metadata": {
  "kernelspec": {
   "display_name": "venv",
   "language": "python",
   "name": "python3"
  },
  "language_info": {
   "codemirror_mode": {
    "name": "ipython",
    "version": 3
   },
   "file_extension": ".py",
   "mimetype": "text/x-python",
   "name": "python",
   "nbconvert_exporter": "python",
   "pygments_lexer": "ipython3",
   "version": "3.11.5"
  }
 },
 "nbformat": 4,
 "nbformat_minor": 2
}
