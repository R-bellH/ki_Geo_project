{
 "cells": [
  {
   "cell_type": "markdown",
   "metadata": {},
   "source": [
    "## Script to clean wildfire data fetched from the NASA FIRMS API \n",
    "This dataset represents dates, times and coordinates rated with a fire confidence level 'high' based on Visible Infrared Imaging Radiometer Suite (VIIRS) sensors\n",
    "1. Latitude and longitude are rounded to 2 decimal points \n",
    "2. Coordinates within a 0.2x0.2 degree tile on the same date are united to a single point (lowest bottom left of a tile)"
   ]
  },
  {
   "cell_type": "code",
   "metadata": {
    "ExecuteTime": {
     "end_time": "2024-06-18T08:20:15.254938Z",
     "start_time": "2024-06-18T08:20:11.337118Z"
    }
   },
   "source": [
    "import pandas as pd\n",
    "import numpy as np\n",
    "\n",
    "df = pd.read_csv('fire_confidence.csv')\n",
    "\n",
    "# round latitude and longitude to 2 decimal points\n",
    "df['latitude'] = df['latitude'].round(2)\n",
    "df['longitude'] = df['longitude'].round(2)\n",
    "\n",
    "# create new columns latitude_clean and longitude_clean\n",
    "df['latitude_clean'] = df['latitude']\n",
    "df['longitude_clean'] = df['longitude']\n",
    "df.rename(columns={'acq_date': 'date', 'acq_time' : 'time'}, inplace=True)\n"
   ],
   "execution_count": 2,
   "outputs": []
  },
  {
   "cell_type": "code",
   "metadata": {
    "ExecuteTime": {
     "end_time": "2024-06-18T08:25:19.171703Z",
     "start_time": "2024-06-18T08:24:52.330636Z"
    }
   },
   "source": [
    "# determine if coordinates are within the same 0.2x0.2 degree tile\n",
    "def coordinates_part_of_same_tile(lat1, lon1, lat2, lon2, delta=0.2):\n",
    "    return abs(lat1 - lat2) <= delta and abs(lon1 - lon2) <= delta\n",
    "\n",
    "# iterate over each row in the DataFrame to group coordinates\n",
    "for index, row in df.iterrows():\n",
    "    lat = row['latitude']\n",
    "    lon = row['longitude']\n",
    "\n",
    "    # find all rows that are within the same 0.2x0.2 degree tile\n",
    "    in_same_tile = df.apply(lambda x: coordinates_part_of_same_tile(lat, lon, x['latitude'], x['longitude']), axis=1)\n",
    "\n",
    "    #get the subset of the DataFrame that falls within the same tile\n",
    "    tile_group = df[in_same_tile]\n",
    "\n",
    "    # find the lowest left coordinate in this tile group\n",
    "    lowest_lat = tile_group['latitude'].min()\n",
    "    lowest_lon = tile_group['longitude'].min()\n",
    "\n",
    "    # assign the lowest left coordinate to the latitude_clean and longitude_clean columns for the rows in this tile group\n",
    "    print(f\"uniting {lowest_lat} {lowest_lon} and {lat} {lon}\")\n",
    "    df.loc[in_same_tile, 'latitude_clean'] = lowest_lat\n",
    "    df.loc[in_same_tile, 'longitude_clean'] = lowest_lon\n",
    "\n",
    "\n",
    "df.to_csv('fire_confidence_clean.csv', index=False)"
   ],
   "execution_count": 8,
   "outputs": []
  },
  {
   "cell_type": "code",
   "metadata": {
    "ExecuteTime": {
     "end_time": "2024-06-18T08:20:28.912923Z",
     "start_time": "2024-06-18T08:20:28.849715Z"
    }
   },
   "source": [
    "display(df)\n",
    "\n",
    "df.to_csv('fire_confidence_clean.csv', index=False)\n",
    "\n",
    "grouped_df = df.groupby(['latitude_clean', 'longitude_clean'])\n",
    "\n",
    "num_groups = len(grouped_df)\n",
    "\n",
    "print(\"Number of groups:\", num_groups)"
   ],
   "execution_count": 4,
   "outputs": []
  },
  {
   "metadata": {
    "ExecuteTime": {
     "end_time": "2024-06-18T08:24:27.090189Z",
     "start_time": "2024-06-18T08:24:27.063177Z"
    }
   },
   "cell_type": "code",
   "source": [
    "df_ll=df[['latitude_clean','longitude_clean']]\n",
    "df_ll.drop_duplicates(inplace=True)\n",
    "display(df_ll)"
   ],
   "execution_count": 7,
   "outputs": []
  },
  {
   "cell_type": "code",
   "execution_count": 8,
   "metadata": {},
   "source": [
    "# # grouped_df = df.groupby('date')\n",
    "# # processed_rows = []\n",
    "\n",
    "# def coordinates_part_of_same_tile(lat_corner, lon_corner, lat, lon):\n",
    "#     if lat_corner <= lat <= lat_corner + 0.2 and lon_corner <= lon <= lon_corner + 0.2:\n",
    "#         return True\n",
    "#     else:\n",
    "#         return False\n",
    "\n",
    "# def coordinates_same(lat_corner, lon_corner, lat, lon):\n",
    "#     if lat == lat_corner and lon == lon_corner:\n",
    "#         return True\n",
    "#     else:\n",
    "#         return False\n",
    "\n",
    "\n",
    "# # # iterate over each date\n",
    "# # for date, group in grouped_df:\n",
    "\n",
    "# for row in df:\n",
    "\n",
    "#     # initialize lowest coordinates from the first row of the group\n",
    "#     lowest_lat = group.iloc[0]['latitude_clean']\n",
    "#     lowest_lon = group.iloc[0]['longitude_clean']\n",
    "\n",
    "#     # iterate over each entry for current date\n",
    "#     for index, row in group.iterrows():\n",
    "#         lat = row['latitude_clean']\n",
    "#         lon = row['longitude_clean']\n",
    "\n",
    "#         if coordinates_same (lowest_lat, lowest_lon, lat, lon):\n",
    "#             continue\n",
    "\n",
    "#         # check if current coordinates are part of the same tile\n",
    "#         if coordinates_part_of_same_tile(lowest_lat, lowest_lon, lat, lon):\n",
    "#             print(f\"uniting {lowest_lat} {lowest_lon} and {lat} {lon} from {row['date']}\")\n",
    "#             df.loc[index, 'latitude_clean'] = lowest_lat\n",
    "#             df.loc[index, 'longitude_clean'] = lowest_lon\n",
    "#         elif coordinates_part_of_same_tile(lat, lon, lowest_lat, lowest_lon):\n",
    "#             print(f\"uniting {lowest_lat} {lowest_lon} and {lat} {lon}  from {row['date']}\")\n",
    "#             lowest_lat = lat\n",
    "#             lowest_lon = lon # reassign lowest coordinates found so far\n",
    "\n",
    "#         processed_rows.append(row)\n",
    "\n",
    "\n",
    "# processed_df = pd.DataFrame(processed_rows)\n",
    "# processed_df.to_csv('fire_confidence_clean.csv', index=False)\n"
   ],
   "outputs": []
  },
  {
   "cell_type": "code",
   "execution_count": null,
   "metadata": {},
   "source": [],
   "outputs": []
  },
  {
   "cell_type": "code",
   "execution_count": null,
   "metadata": {},
   "source": [],
   "outputs": []
  }
 ],
 "metadata": {
  "kernelspec": {
   "display_name": "venv",
   "language": "python",
   "name": "python3"
  },
  "language_info": {
   "codemirror_mode": {
    "name": "ipython",
    "version": 3
   },
   "file_extension": ".py",
   "mimetype": "text/x-python",
   "name": "python",
   "nbconvert_exporter": "python",
   "pygments_lexer": "ipython3",
   "version": "3.11.5"
  }
 },
 "nbformat": 4,
 "nbformat_minor": 2
}
