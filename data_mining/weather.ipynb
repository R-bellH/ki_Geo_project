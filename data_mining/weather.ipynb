{
 "cells": [
  {
   "cell_type": "code",
   "metadata": {
    "ExecuteTime": {
     "end_time": "2024-06-11T14:18:30.375293Z",
     "start_time": "2024-06-11T14:16:48.072853Z"
    }
   },
   "source": [
    "# !pip install openmeteo-requests\n",
    "# !pip install requests-cache retry-requests numpy pandas\n",
    "# https://open-meteo.com/en/docs/historical-weather-api"
   ],
   "outputs": [
    {
     "name": "stdout",
     "output_type": "stream",
     "text": [
      "Requirement already satisfied: openmeteo-requests in c:\\users\\just let me in\\desktop\\technion\\semester_8_student_exchange\\clm ki&geoinfo\\ki_geo_project\\.venv\\lib\\site-packages (1.2.0)\n",
      "Requirement already satisfied: openmeteo-sdk>=1.4.0 in c:\\users\\just let me in\\desktop\\technion\\semester_8_student_exchange\\clm ki&geoinfo\\ki_geo_project\\.venv\\lib\\site-packages (from openmeteo-requests) (1.11.7)\n",
      "Requirement already satisfied: requests in c:\\users\\just let me in\\desktop\\technion\\semester_8_student_exchange\\clm ki&geoinfo\\ki_geo_project\\.venv\\lib\\site-packages (from openmeteo-requests) (2.32.3)\n",
      "Requirement already satisfied: flatbuffers>=24.0.0 in c:\\users\\just let me in\\desktop\\technion\\semester_8_student_exchange\\clm ki&geoinfo\\ki_geo_project\\.venv\\lib\\site-packages (from openmeteo-sdk>=1.4.0->openmeteo-requests) (24.3.25)\n",
      "Requirement already satisfied: charset-normalizer<4,>=2 in c:\\users\\just let me in\\desktop\\technion\\semester_8_student_exchange\\clm ki&geoinfo\\ki_geo_project\\.venv\\lib\\site-packages (from requests->openmeteo-requests) (3.3.2)\n",
      "Requirement already satisfied: idna<4,>=2.5 in c:\\users\\just let me in\\desktop\\technion\\semester_8_student_exchange\\clm ki&geoinfo\\ki_geo_project\\.venv\\lib\\site-packages (from requests->openmeteo-requests) (3.7)\n",
      "Requirement already satisfied: urllib3<3,>=1.21.1 in c:\\users\\just let me in\\desktop\\technion\\semester_8_student_exchange\\clm ki&geoinfo\\ki_geo_project\\.venv\\lib\\site-packages (from requests->openmeteo-requests) (2.2.1)\n",
      "Requirement already satisfied: certifi>=2017.4.17 in c:\\users\\just let me in\\desktop\\technion\\semester_8_student_exchange\\clm ki&geoinfo\\ki_geo_project\\.venv\\lib\\site-packages (from requests->openmeteo-requests) (2024.6.2)\n"
     ]
    },
    {
     "name": "stderr",
     "output_type": "stream",
     "text": [
      "\n",
      "[notice] A new release of pip is available: 23.2.1 -> 24.0\n",
      "[notice] To update, run: python.exe -m pip install --upgrade pip\n"
     ]
    },
    {
     "name": "stdout",
     "output_type": "stream",
     "text": [
      "Collecting requests-cache\n",
      "  Obtaining dependency information for requests-cache from https://files.pythonhosted.org/packages/cc/23/863f517b5d74e297e669c88093ecd92e13a06c488e90acbd5507819049ac/requests_cache-1.2.0-py3-none-any.whl.metadata\n",
      "  Downloading requests_cache-1.2.0-py3-none-any.whl.metadata (9.9 kB)\n",
      "Collecting retry-requests\n",
      "  Obtaining dependency information for retry-requests from https://files.pythonhosted.org/packages/b1/f3/8ce908497bebbc2790ef06240a2c0fb28c096abb59062d88f85090464a5f/retry_requests-2.0.0-py3-none-any.whl.metadata\n",
      "  Downloading retry_requests-2.0.0-py3-none-any.whl.metadata (2.6 kB)\n",
      "Requirement already satisfied: numpy in c:\\users\\just let me in\\desktop\\technion\\semester_8_student_exchange\\clm ki&geoinfo\\ki_geo_project\\.venv\\lib\\site-packages (1.26.4)\n",
      "Requirement already satisfied: pandas in c:\\users\\just let me in\\desktop\\technion\\semester_8_student_exchange\\clm ki&geoinfo\\ki_geo_project\\.venv\\lib\\site-packages (2.2.2)\n",
      "Requirement already satisfied: attrs>=21.2 in c:\\users\\just let me in\\desktop\\technion\\semester_8_student_exchange\\clm ki&geoinfo\\ki_geo_project\\.venv\\lib\\site-packages (from requests-cache) (23.2.0)\n",
      "Collecting cattrs>=22.2 (from requests-cache)\n",
      "  Obtaining dependency information for cattrs>=22.2 from https://files.pythonhosted.org/packages/b3/0d/cd4a4071c7f38385dc5ba91286723b4d1090b87815db48216212c6c6c30e/cattrs-23.2.3-py3-none-any.whl.metadata\n",
      "  Downloading cattrs-23.2.3-py3-none-any.whl.metadata (10 kB)\n",
      "Requirement already satisfied: platformdirs>=2.5 in c:\\users\\just let me in\\desktop\\technion\\semester_8_student_exchange\\clm ki&geoinfo\\ki_geo_project\\.venv\\lib\\site-packages (from requests-cache) (4.2.2)\n",
      "Requirement already satisfied: requests>=2.22 in c:\\users\\just let me in\\desktop\\technion\\semester_8_student_exchange\\clm ki&geoinfo\\ki_geo_project\\.venv\\lib\\site-packages (from requests-cache) (2.32.3)\n",
      "Collecting url-normalize>=1.4 (from requests-cache)\n",
      "  Obtaining dependency information for url-normalize>=1.4 from https://files.pythonhosted.org/packages/65/1c/6c6f408be78692fc850006a2b6dea37c2b8592892534e09996e401efc74b/url_normalize-1.4.3-py2.py3-none-any.whl.metadata\n",
      "  Downloading url_normalize-1.4.3-py2.py3-none-any.whl.metadata (3.1 kB)\n",
      "Requirement already satisfied: urllib3>=1.25.5 in c:\\users\\just let me in\\desktop\\technion\\semester_8_student_exchange\\clm ki&geoinfo\\ki_geo_project\\.venv\\lib\\site-packages (from requests-cache) (2.2.1)\n",
      "Requirement already satisfied: python-dateutil>=2.8.2 in c:\\users\\just let me in\\desktop\\technion\\semester_8_student_exchange\\clm ki&geoinfo\\ki_geo_project\\.venv\\lib\\site-packages (from pandas) (2.9.0.post0)\n",
      "Requirement already satisfied: pytz>=2020.1 in c:\\users\\just let me in\\desktop\\technion\\semester_8_student_exchange\\clm ki&geoinfo\\ki_geo_project\\.venv\\lib\\site-packages (from pandas) (2024.1)\n",
      "Requirement already satisfied: tzdata>=2022.7 in c:\\users\\just let me in\\desktop\\technion\\semester_8_student_exchange\\clm ki&geoinfo\\ki_geo_project\\.venv\\lib\\site-packages (from pandas) (2024.1)\n",
      "Requirement already satisfied: six>=1.5 in c:\\users\\just let me in\\desktop\\technion\\semester_8_student_exchange\\clm ki&geoinfo\\ki_geo_project\\.venv\\lib\\site-packages (from python-dateutil>=2.8.2->pandas) (1.16.0)\n",
      "Requirement already satisfied: charset-normalizer<4,>=2 in c:\\users\\just let me in\\desktop\\technion\\semester_8_student_exchange\\clm ki&geoinfo\\ki_geo_project\\.venv\\lib\\site-packages (from requests>=2.22->requests-cache) (3.3.2)\n",
      "Requirement already satisfied: idna<4,>=2.5 in c:\\users\\just let me in\\desktop\\technion\\semester_8_student_exchange\\clm ki&geoinfo\\ki_geo_project\\.venv\\lib\\site-packages (from requests>=2.22->requests-cache) (3.7)\n",
      "Requirement already satisfied: certifi>=2017.4.17 in c:\\users\\just let me in\\desktop\\technion\\semester_8_student_exchange\\clm ki&geoinfo\\ki_geo_project\\.venv\\lib\\site-packages (from requests>=2.22->requests-cache) (2024.6.2)\n",
      "Downloading requests_cache-1.2.0-py3-none-any.whl (61 kB)\n",
      "   ---------------------------------------- 0.0/61.4 kB ? eta -:--:--\n",
      "   ---------------------------------------- 61.4/61.4 kB 1.6 MB/s eta 0:00:00\n",
      "Downloading retry_requests-2.0.0-py3-none-any.whl (15 kB)\n",
      "Downloading cattrs-23.2.3-py3-none-any.whl (57 kB)\n",
      "   ---------------------------------------- 0.0/57.5 kB ? eta -:--:--\n",
      "   ---------------------------------------- 57.5/57.5 kB 3.1 MB/s eta 0:00:00\n",
      "Downloading url_normalize-1.4.3-py2.py3-none-any.whl (6.8 kB)\n",
      "Installing collected packages: url-normalize, cattrs, retry-requests, requests-cache\n",
      "Successfully installed cattrs-23.2.3 requests-cache-1.2.0 retry-requests-2.0.0 url-normalize-1.4.3\n"
     ]
    },
    {
     "name": "stderr",
     "output_type": "stream",
     "text": [
      "\n",
      "[notice] A new release of pip is available: 23.2.1 -> 24.0\n",
      "[notice] To update, run: python.exe -m pip install --upgrade pip\n"
     ]
    }
   ],
   "execution_count": 1
  },
  {
   "cell_type": "code",
   "metadata": {
    "ExecuteTime": {
     "end_time": "2024-06-11T14:18:59.923109Z",
     "start_time": "2024-06-11T14:18:30.421710Z"
    }
   },
   "source": [
    "import openmeteo_requests\n",
    "\n",
    "import requests_cache\n",
    "import pandas as pd\n",
    "from retry_requests import retry\n",
    "\n",
    "# Setup the Open-Meteo API client with cache and retry on error\n",
    "cache_session = requests_cache.CachedSession('.cache', expire_after = -1)\n",
    "retry_session = retry(cache_session, retries = 5, backoff_factor = 0.2)\n",
    "openmeteo = openmeteo_requests.Client(session = retry_session)\n",
    "\n",
    "# Make sure all required weather variables are listed here\n",
    "# The order of variables in hourly or daily is important to assign them correctly below\n",
    "url = \"https://archive-api.open-meteo.com/v1/archive\"\n",
    "params = {\n",
    "\t\"latitude\": 40.50196,\n",
    "\t\"longitude\": 17.21493,\n",
    "\t\"start_date\": \"1960-05-12\",\n",
    "\t\"end_date\": \"1960-05-26\",\n",
    "\t\"hourly\": [\"temperature_2m\", \"wind_speed_10m\", \"wind_speed_100m\"]\n",
    "}\n",
    "responses = openmeteo.weather_api(url, params=params)\n",
    "\n",
    "# Process first location. Add a for-loop for multiple locations or weather models\n",
    "response = responses[0]\n",
    "print(f\"Coordinates {response.Latitude()}°N {response.Longitude()}°E\")\n",
    "print(f\"Elevation {response.Elevation()} m asl\")\n",
    "print(f\"Timezone {response.Timezone()} {response.TimezoneAbbreviation()}\")\n",
    "print(f\"Timezone difference to GMT+0 {response.UtcOffsetSeconds()} s\")\n",
    "\n",
    "# Process hourly data. The order of variables needs to be the same as requested.\n",
    "hourly = response.Hourly()\n",
    "hourly_temperature_2m = hourly.Variables(0).ValuesAsNumpy()\n",
    "hourly_wind_speed_10m = hourly.Variables(1).ValuesAsNumpy()\n",
    "hourly_wind_speed_100m = hourly.Variables(2).ValuesAsNumpy()\n",
    "\n",
    "hourly_data = {\"date\": pd.date_range(\n",
    "\tstart = pd.to_datetime(hourly.Time(), unit = \"s\", utc = True),\n",
    "\tend = pd.to_datetime(hourly.TimeEnd(), unit = \"s\", utc = True),\n",
    "\tfreq = pd.Timedelta(seconds = hourly.Interval()),\n",
    "\tinclusive = \"left\"\n",
    ")}\n",
    "hourly_data[\"temperature_2m\"] = hourly_temperature_2m\n",
    "hourly_data[\"wind_speed_10m\"] = hourly_wind_speed_10m\n",
    "hourly_data[\"wind_speed_100m\"] = hourly_wind_speed_100m\n",
    "\n",
    "hourly_dataframe = pd.DataFrame(data = hourly_data)\n",
    "print(hourly_dataframe)"
   ],
   "outputs": [
    {
     "name": "stdout",
     "output_type": "stream",
     "text": [
      "Coordinates 40.52724075317383°N 17.1610164642334°E\n",
      "Elevation 17.0 m asl\n",
      "Timezone None None\n",
      "Timezone difference to GMT+0 0 s\n",
      "                         date  temperature_2m  wind_speed_10m  wind_speed_100m\n",
      "0   1960-05-12 00:00:00+00:00       13.991500        5.241679         7.491114\n",
      "1   1960-05-12 01:00:00+00:00       14.341499        5.760000         7.754637\n",
      "2   1960-05-12 02:00:00+00:00       14.491500        5.771239         7.862518\n",
      "3   1960-05-12 03:00:00+00:00       14.141500        5.447788         7.517021\n",
      "4   1960-05-12 04:00:00+00:00       12.691500        5.154416         6.489992\n",
      "..                        ...             ...             ...              ...\n",
      "355 1960-05-26 19:00:00+00:00       18.391500       26.932714        37.585098\n",
      "356 1960-05-26 20:00:00+00:00       17.841499       26.319420        37.446922\n",
      "357 1960-05-26 21:00:00+00:00       17.391500       27.002399        38.813274\n",
      "358 1960-05-26 22:00:00+00:00       17.041500       25.984919        36.656414\n",
      "359 1960-05-26 23:00:00+00:00       16.791500       27.757376        39.205303\n",
      "\n",
      "[360 rows x 4 columns]\n"
     ]
    }
   ],
   "execution_count": 2
  }
 ],
 "metadata": {
  "kernelspec": {
   "display_name": "Python 3",
   "language": "python",
   "name": "python3"
  },
  "language_info": {
   "codemirror_mode": {
    "name": "ipython",
    "version": 3
   },
   "file_extension": ".py",
   "mimetype": "text/x-python",
   "name": "python",
   "nbconvert_exporter": "python",
   "pygments_lexer": "ipython3",
   "version": "3.12.3"
  }
 },
 "nbformat": 4,
 "nbformat_minor": 2
}
