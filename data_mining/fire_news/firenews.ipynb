{
 "cells": [
  {
   "cell_type": "code",
   "execution_count": 4,
   "metadata": {
    "ExecuteTime": {
     "end_time": "2024-06-11T14:04:00.926686Z",
     "start_time": "2024-06-11T14:03:56.197703Z"
    }
   },
   "source": [
    "''' european fires that were reported in the news by country '''\n",
    "\n",
    "import requests\n",
    "import json\n",
    "\n",
    "def fetch_fire_news(startDate, endDate):\n",
    "    url = \"https://api2.effis.emergency.copernicus.eu/firenews/rest/firenews/firenews\" #firenews api\n",
    "    params = {\n",
    "        \"notify\": 1, #FIXED VALUE\n",
    "        #\"place__icontains\": <country/region/city/...>\n",
    "        \"startdate__gte\": startDate+\"T00:00:00.000Z\",\n",
    "        \"enddate__lte\": endDate+\"T23:59:59.999Z\",\n",
    "        \"simpleplace__icontains\": \"IT\",  #2 letters ISO country code\n",
    "        \"ordering\": \"-enddate,  -startdate\",\n",
    "        #\"limit\": 20, #result limit\n",
    "        \"offset\": 0\n",
    "    }\n",
    "\n",
    "    try:\n",
    "        response = requests.get(url, params=params)\n",
    "        response.raise_for_status()  # Check the response status code, if it is not 200, throw an exception\n",
    "        data = response.json()  # Parse the response content into JSON format\n",
    "        return data\n",
    "    except requests.exceptions.RequestException as e:\n",
    "        print(\"Error fetching fire news:\", e)\n",
    "        return None\n",
    "\n",
    "# set date range format YYYY-MM-DD\n",
    "startDate = \"2022-05-01\"\n",
    "endDate = \"2025-06-10\"\n",
    "\n",
    "fire_news = fetch_fire_news(startDate,endDate)\n",
    "if fire_news:\n",
    "    print(\"Fetched fire news successfully:\")\n",
    "    number_of_reported_fires_italy = len(fire_news['results'])\n",
    "    print(f\"reported fires in italy between {startDate} and {endDate} : {number_of_reported_fires_italy}\")\n",
    "    print(json.dumps(fire_news['results'][99], indent=4)) # single result\n",
    "else:\n",
    "    print(\"Failed to fetch fire news.\")"
   ],
   "outputs": []
  },
  {
   "cell_type": "code",
   "execution_count": 5,
   "metadata": {
    "ExecuteTime": {
     "end_time": "2024-06-11T13:49:24.191603Z",
     "start_time": "2024-06-11T13:49:24.138725Z"
    }
   },
   "source": [
    "\"\"\" create lists of coordinates and dates of fires in italy \"\"\"\n",
    "\n",
    "if fire_news:\n",
    "\n",
    "    dates = []\n",
    "    coordinates = []\n",
    "    print(fire_news['results'][2]['geom'])\n",
    "    for ans in fire_news['results']:\n",
    "        print(ans['place'])\n",
    "        coordinate = ans['geom']['coordinates']\n",
    "        updated_time = ans['updated']\n",
    "\n",
    "        coordinates.append(coordinate[:2])\n",
    "        dates.append(updated_time)\n",
    "        print(coordinate[:2])\n",
    "        print(coordinate)\n",
    "        # print(\"updated_time：\", updated_time)\n",
    "        print(\"--------------------------------------\")\n",
    "\n",
    "else:\n",
    "    print(\"Failed to fetch fire news.\")\n",
    "\n",
    "#(coordinates[0])"
   ],
   "outputs": []
  }
 ],
 "metadata": {
  "kernelspec": {
   "display_name": "Python 3",
   "language": "python",
   "name": "python3"
  },
  "language_info": {
   "codemirror_mode": {
    "name": "ipython",
    "version": 3
   },
   "file_extension": ".py",
   "mimetype": "text/x-python",
   "name": "python",
   "nbconvert_exporter": "python",
   "pygments_lexer": "ipython3",
   "version": "3.11.5"
  }
 },
 "nbformat": 4,
 "nbformat_minor": 2
}
