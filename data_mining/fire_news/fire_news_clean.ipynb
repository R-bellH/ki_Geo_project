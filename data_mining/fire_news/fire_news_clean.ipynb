{
 "cells": [
  {
   "cell_type": "markdown",
   "metadata": {},
   "source": [
    "## Script to clean data fetched from the European Forest Fire Firenews API\n",
    "This dataset represents dates, times and coordinates where fires were reported in the news for the region of Italy, to be used in combination with the remote sensing VIIRS dataset in confirming historical occurences of wildfires\n",
    "1. Latitude and longitude are rounded to 2 decimal points \n",
    "2. Split date and time into separate columns\n",
    "\n",
    "Output: fire_news_clean.csv "
   ]
  },
  {
   "cell_type": "code",
   "execution_count": 7,
   "metadata": {},
   "outputs": [],
   "source": [
    "import pandas as pd\n",
    "import numpy as np\n",
    "\n",
    "df = pd.read_csv('fire_news.csv')\n",
    "\n",
    "# round latitude and longitude to 2 decimal points\n",
    "df['latitude'] = df['latitude'].round(2)\n",
    "df['longitude'] = df['longitude'].round(2)\n",
    "\n",
    "df.rename(columns={'acq_date': 'date'}, inplace=True)\n",
    "\n",
    "# extract time portion from 'date' and create 'time' column\n",
    "df['time'] = df['date'].str[-9:-4].str.replace(':', '')\n",
    "df['date'] = df['date'].str[:10]\n",
    "\n",
    "df.to_csv(\"fire_news_clean.csv\", index=False)\n",
    "\n",
    "#print(df.head())\n",
    "\n"
   ]
  }
 ],
 "metadata": {
  "kernelspec": {
   "display_name": "venv",
   "language": "python",
   "name": "python3"
  },
  "language_info": {
   "codemirror_mode": {
    "name": "ipython",
    "version": 3
   },
   "file_extension": ".py",
   "mimetype": "text/x-python",
   "name": "python",
   "nbconvert_exporter": "python",
   "pygments_lexer": "ipython3",
   "version": "3.11.5"
  }
 },
 "nbformat": 4,
 "nbformat_minor": 2
}
