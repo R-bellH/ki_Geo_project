{
 "cells": [
  {
   "cell_type": "code",
   "execution_count": null,
   "metadata": {},
   "outputs": [],
   "source": [
    "#!pip install tensorflow_gpu==2.10.0\n",
    "#!pip install tensorflow==2.10.0"
   ]
  },
  {
   "cell_type": "code",
   "execution_count": 1,
   "metadata": {},
   "outputs": [
    {
     "name": "stdout",
     "output_type": "stream",
     "text": [
      "TensorFlow 版本: 2.10.0\n",
      "WARNING:tensorflow:From C:\\Users\\东元哲\\AppData\\Local\\Temp\\ipykernel_21280\\82562279.py:5: is_gpu_available (from tensorflow.python.framework.test_util) is deprecated and will be removed in a future version.\n",
      "Instructions for updating:\n",
      "Use `tf.config.list_physical_devices('GPU')` instead.\n",
      "True\n"
     ]
    }
   ],
   "source": [
    "import tensorflow as tf\n",
    "\n",
    "print(\"TensorFlow 版本:\", tf.__version__)\n",
    "\n",
    "print(tf.test.is_gpu_available())"
   ]
  },
  {
   "cell_type": "code",
   "execution_count": 2,
   "metadata": {},
   "outputs": [],
   "source": [
    "from keras.datasets import mnist\n",
    "(X_train,Y_train),(X_test,Y_test) = mnist.load_data()"
   ]
  },
  {
   "cell_type": "code",
   "execution_count": 3,
   "metadata": {},
   "outputs": [
    {
     "name": "stdout",
     "output_type": "stream",
     "text": [
      "Epoch 1/10\n",
      "1200/1200 [==============================] - 12s 8ms/step - loss: 0.5334 - accuracy: 0.8393\n",
      "Epoch 2/10\n",
      "1200/1200 [==============================] - 9s 8ms/step - loss: 0.2520 - accuracy: 0.9272\n",
      "Epoch 3/10\n",
      "1200/1200 [==============================] - 9s 7ms/step - loss: 0.1985 - accuracy: 0.9433\n",
      "Epoch 4/10\n",
      "1200/1200 [==============================] - 9s 7ms/step - loss: 0.1721 - accuracy: 0.9493\n",
      "Epoch 5/10\n",
      "1200/1200 [==============================] - 9s 7ms/step - loss: 0.1574 - accuracy: 0.9546\n",
      "Epoch 6/10\n",
      "1200/1200 [==============================] - 9s 7ms/step - loss: 0.1444 - accuracy: 0.9583\n",
      "Epoch 7/10\n",
      "1200/1200 [==============================] - 8s 7ms/step - loss: 0.1359 - accuracy: 0.9608\n",
      "Epoch 8/10\n",
      "1200/1200 [==============================] - 8s 7ms/step - loss: 0.1306 - accuracy: 0.9621\n",
      "Epoch 9/10\n",
      "1200/1200 [==============================] - 9s 7ms/step - loss: 0.1254 - accuracy: 0.9638\n",
      "Epoch 10/10\n",
      "1200/1200 [==============================] - 9s 7ms/step - loss: 0.1208 - accuracy: 0.9661\n"
     ]
    },
    {
     "data": {
      "text/plain": [
       "<keras.callbacks.History at 0x22b447e7490>"
      ]
     },
     "execution_count": 3,
     "metadata": {},
     "output_type": "execute_result"
    }
   ],
   "source": [
    "import numpy as np\n",
    "from keras.models import Sequential\n",
    "from keras.layers import SimpleRNN, Activation, Dense\n",
    "from keras.utils import np_utils\n",
    "from keras.optimizers import Adam\n",
    "\n",
    "TIME_STEPS = 28\n",
    "INPUT_SIZE = 28\n",
    "BATCH_SIZE = 50\n",
    "index_start = 0\n",
    "OUTPUT_SIZE = 10\n",
    "CELL_SIZE = 75\n",
    "LR = 1e-3\n",
    "\n",
    "# 假设你已经准备好了训练数据 X_train、Y_train 和测试数据 X_test、Y_test\n",
    "\n",
    "X_train = X_train.reshape(-1, 28, 28) / 255\n",
    "X_test = X_test.reshape(-1, 28, 28) / 255\n",
    "\n",
    "Y_train = np_utils.to_categorical(Y_train, num_classes=10)\n",
    "Y_test = np_utils.to_categorical(Y_test, num_classes=10)\n",
    "\n",
    "model = Sequential()\n",
    "\n",
    "# 添加 SimpleRNN 层\n",
    "model.add(\n",
    "    SimpleRNN(\n",
    "        units=CELL_SIZE,  # 隐藏层维度\n",
    "        input_shape=(TIME_STEPS, INPUT_SIZE)  # 输入形状\n",
    "    )\n",
    ")\n",
    "model.add(Dense(OUTPUT_SIZE))\n",
    "model.add(Activation(\"softmax\"))\n",
    "\n",
    "adam = Adam(LR)\n",
    "## 编译模型\n",
    "model.compile(loss='categorical_crossentropy', optimizer=adam, metrics=['accuracy'])\n",
    "\n",
    "## 训练模型\n",
    "model.fit(X_train, Y_train, batch_size=BATCH_SIZE, epochs=10)\n"
   ]
  }
 ],
 "metadata": {
  "kernelspec": {
   "display_name": "Python 3",
   "language": "python",
   "name": "python3"
  },
  "language_info": {
   "codemirror_mode": {
    "name": "ipython",
    "version": 3
   },
   "file_extension": ".py",
   "mimetype": "text/x-python",
   "name": "python",
   "nbconvert_exporter": "python",
   "pygments_lexer": "ipython3",
   "version": "3.9.13"
  }
 },
 "nbformat": 4,
 "nbformat_minor": 2
}
