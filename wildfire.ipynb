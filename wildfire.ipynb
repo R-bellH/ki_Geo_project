{
 "cells": [
  {
   "cell_type": "code",
   "execution_count": 1,
   "metadata": {},
   "source": [
    "# !pip install openeo\n",
    "# !pip install matplotlib\n",
    "# https://documentation.dataspace.copernicus.eu/APIs/openEO/openeo-community-examples/python/ForestFire/ForestFire.html"
   ],
   "outputs": []
  },
  {
   "cell_type": "code",
   "execution_count": 2,
   "metadata": {},
   "source": [
    "import scipy\n",
    "import numpy as np\n",
    "\n",
    "import openeo\n",
    "from openeo.extra.spectral_indices import compute_indices\n",
    "\n",
    "import matplotlib.pyplot as plt\n",
    "import matplotlib\n",
    "import matplotlib.patches as mpatches\n",
    "import rasterio\n",
    "from rasterio.plot import show"
   ],
   "outputs": []
  },
  {
   "cell_type": "code",
   "execution_count": 3,
   "metadata": {},
   "source": [
    "connection = openeo.connect(\"openeo.dataspace.copernicus.eu\").authenticate_oidc()\n",
    "extent = {\"west\": -2.6910, \"south\": 38.2239, \"east\": -2.5921, \"north\": 38.3002}"
   ],
   "outputs": []
  },
  {
   "cell_type": "code",
   "execution_count": 4,
   "metadata": {},
   "source": [
    "# define a function to identify cloud-free pixels in the available data-cube\n",
    "\n",
    "\n",
    "def getBAP(scl, data, reducer=\"first\"):\n",
    "    mask = (scl == 3) | (scl == 8) | (scl == 9) | (scl == 10)\n",
    "\n",
    "    # mask is a bit noisy, so we apply smoothening\n",
    "    # 2D gaussian kernel\n",
    "    g = scipy.signal.windows.gaussian(11, std=1.6)\n",
    "    kernel = np.outer(g, g)\n",
    "    kernel = kernel / kernel.sum()\n",
    "\n",
    "    # Morphological dilation of mask: convolution + threshold\n",
    "    mask = mask.apply_kernel(kernel)\n",
    "    mask = mask > 0.1\n",
    "\n",
    "    data_masked = data.mask(mask)\n",
    "\n",
    "    # now select Best Available Pixel based on the mask\n",
    "    return data_masked.reduce_dimension(reducer=reducer, dimension=\"t\")"
   ],
   "outputs": []
  },
  {
   "cell_type": "code",
   "execution_count": 5,
   "metadata": {},
   "source": [
    "# load S2 pre-collection\n",
    "s2pre = connection.load_collection(\n",
    "    \"SENTINEL2_L2A\",\n",
    "    temporal_extent=[\"2017-05-03\", \"2017-08-03\"],\n",
    "    spatial_extent=extent,\n",
    "    bands=[\"B04\", \"B08\", \"B12\"],\n",
    "    max_cloud_cover=90,\n",
    ")\n",
    "\n",
    "s2pre_scl = connection.load_collection(\n",
    "    \"SENTINEL2_L2A\",\n",
    "    temporal_extent=[\"2017-05-03\", \"2017-08-03\"],\n",
    "    spatial_extent=extent,\n",
    "    bands=[\"SCL\"],\n",
    "    max_cloud_cover=90,\n",
    ")\n",
    "\n",
    "# calculate ndvi\n",
    "ndvi_pre = s2pre.ndvi()"
   ],
   "outputs": []
  },
  {
   "cell_type": "code",
   "execution_count": 6,
   "metadata": {},
   "source": [
    "# Create a Pre-event cloud free mosiac\n",
    "ndvi_pre = getBAP(s2pre_scl, ndvi_pre, reducer=\"last\")"
   ],
   "outputs": []
  },
  {
   "cell_type": "code",
   "execution_count": 7,
   "metadata": {},
   "source": [
    "ndvi_pre.download(\"NDVI.tiff\")"
   ],
   "outputs": []
  },
  {
   "cell_type": "code",
   "execution_count": 8,
   "metadata": {},
   "source": [
    "# load S2 Near-real-time(NRT) collection\n",
    "s2nrt = connection.load_collection(\n",
    "    \"SENTINEL2_L2A\",\n",
    "    temporal_extent=[\"2017-08-03\", \"2017-08-08\"],\n",
    "    spatial_extent=extent,\n",
    "    bands=[\"B04\", \"B08\", \"B12\"],\n",
    "    max_cloud_cover=90,\n",
    ")\n",
    "\n",
    "s2nrt_scl = connection.load_collection(\n",
    "    \"SENTINEL2_L2A\",\n",
    "    temporal_extent=[\"2017-08-03\", \"2017-08-08\"],\n",
    "    spatial_extent=extent,\n",
    "    bands=[\"SCL\"],\n",
    "    max_cloud_cover=90,\n",
    ")\n",
    "\n",
    "ndvi_nrt = s2nrt.ndvi()\n",
    "ndvi_nrt = getBAP(s2nrt_scl, ndvi_nrt, reducer=\"first\")"
   ],
   "outputs": []
  },
  {
   "cell_type": "code",
   "execution_count": 9,
   "metadata": {},
   "source": [
    "# download NDVI for NRT mode for comparison\n",
    "ndvi_nrt.download(\"NRT_NDVI.tiff\")"
   ],
   "outputs": []
  },
  {
   "cell_type": "code",
   "execution_count": 10,
   "metadata": {},
   "source": [
    "# download signal of fire in near real time\n",
    "fire_nrt = ndvi_pre - ndvi_nrt\n",
    "fire_nrt.download(\"NRT_Fire.tiff\")"
   ],
   "outputs": []
  },
  {
   "cell_type": "code",
   "execution_count": 11,
   "metadata": {},
   "source": [
    "# load S2 post collection\n",
    "s2post = connection.load_collection(\n",
    "    \"SENTINEL2_L2A\",\n",
    "    temporal_extent=[\"2017-08-03\", \"2017-11-03\"],\n",
    "    spatial_extent=extent,\n",
    "    bands=[\"B04\", \"B08\", \"B12\"],\n",
    "    max_cloud_cover=90,\n",
    ")\n",
    "\n",
    "s2post_scl = connection.load_collection(\n",
    "    \"SENTINEL2_L2A\",\n",
    "    temporal_extent=[\"2017-08-03\", \"2017-11-03\"],\n",
    "    spatial_extent=extent,\n",
    "    bands=[\"SCL\"],\n",
    "    max_cloud_cover=90,\n",
    ")\n",
    "\n",
    "# calculate post ndvi mosaic\n",
    "ndvi_post = s2post.ndvi()\n",
    "ndvi_post = getBAP(s2post_scl, ndvi_post, reducer=\"first\")"
   ],
   "outputs": []
  },
  {
   "cell_type": "code",
   "execution_count": 12,
   "metadata": {},
   "source": [
    "# download NDVI for post-event mode for comparison\n",
    "ndvi_post.download(\"Post_NDVI.tiff\")"
   ],
   "outputs": []
  },
  {
   "cell_type": "code",
   "execution_count": 13,
   "metadata": {},
   "source": [
    "fire_mosiac = ndvi_pre - ndvi_post\n",
    "fire_mosiac.download(\"Mosiac_Fire.tiff\")"
   ],
   "outputs": []
  },
  {
   "cell_type": "code",
   "execution_count": 14,
   "metadata": {},
   "source": [
    "ndvi = rasterio.open(\"NDVI.tiff\")\n",
    "ndvi_nrt = rasterio.open(\"NRT_NDVI.tiff\")\n",
    "ndvi_mosiac = rasterio.open(\"Post_NDVI.tiff\")\n",
    "\n",
    "f, axarr = plt.subplots(1, 3, dpi=100, figsize=(18, 6))\n",
    "im = show(ndvi.read(1), vmin=0, vmax=1, transform=ndvi.transform, ax=axarr[0])\n",
    "axarr[0].set_title(\"Pre Event NDVI\")\n",
    "\n",
    "im = show(ndvi_nrt.read(1), vmin=0, vmax=1, transform=ndvi_nrt.transform, ax=axarr[1])\n",
    "axarr[1].set_title(\"Post Event NDVI (NRT)\")\n",
    "\n",
    "im = show(\n",
    "    ndvi_mosiac.read(1), vmin=0, vmax=1, transform=ndvi_mosiac.transform, ax=axarr[2]\n",
    ")\n",
    "axarr[2].set_title(\"Post Event NDVI (Mosiac)\")\n",
    "plt.tight_layout()"
   ],
   "outputs": []
  }
 ],
 "metadata": {
  "kernelspec": {
   "display_name": "Python 3",
   "language": "python",
   "name": "python3"
  },
  "language_info": {
   "codemirror_mode": {
    "name": "ipython",
    "version": 3
   },
   "file_extension": ".py",
   "mimetype": "text/x-python",
   "name": "python",
   "nbconvert_exporter": "python",
   "pygments_lexer": "ipython3",
   "version": "3.12.3"
  }
 },
 "nbformat": 4,
 "nbformat_minor": 2
}
