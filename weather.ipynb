{
 "cells": [
  {
   "cell_type": "code",
   "execution_count": 5,
   "metadata": {},
   "outputs": [
    {
     "name": "stdout",
     "output_type": "stream",
     "text": [
      "Requirement already satisfied: openmeteo-requests in c:\\users\\public\\appdata\\local\\programs\\python\\python312\\lib\\site-packages (1.2.0)\n",
      "Requirement already satisfied: openmeteo-sdk>=1.4.0 in c:\\users\\public\\appdata\\local\\programs\\python\\python312\\lib\\site-packages (from openmeteo-requests) (1.11.4)\n",
      "Requirement already satisfied: requests in c:\\users\\public\\appdata\\local\\programs\\python\\python312\\lib\\site-packages (from openmeteo-requests) (2.31.0)\n",
      "Requirement already satisfied: flatbuffers>=24.0.0 in c:\\users\\public\\appdata\\local\\programs\\python\\python312\\lib\\site-packages (from openmeteo-sdk>=1.4.0->openmeteo-requests) (24.3.25)\n",
      "Requirement already satisfied: charset-normalizer<4,>=2 in c:\\users\\public\\appdata\\local\\programs\\python\\python312\\lib\\site-packages (from requests->openmeteo-requests) (3.3.2)\n",
      "Requirement already satisfied: idna<4,>=2.5 in c:\\users\\public\\appdata\\local\\programs\\python\\python312\\lib\\site-packages (from requests->openmeteo-requests) (3.7)\n",
      "Requirement already satisfied: urllib3<3,>=1.21.1 in c:\\users\\public\\appdata\\local\\programs\\python\\python312\\lib\\site-packages (from requests->openmeteo-requests) (2.2.1)\n",
      "Requirement already satisfied: certifi>=2017.4.17 in c:\\users\\public\\appdata\\local\\programs\\python\\python312\\lib\\site-packages (from requests->openmeteo-requests) (2024.2.2)\n",
      "Requirement already satisfied: requests-cache in c:\\users\\public\\appdata\\local\\programs\\python\\python312\\lib\\site-packages (1.2.0)\n",
      "Requirement already satisfied: retry-requests in c:\\users\\public\\appdata\\local\\programs\\python\\python312\\lib\\site-packages (2.0.0)\n",
      "Requirement already satisfied: numpy in c:\\users\\public\\appdata\\local\\programs\\python\\python312\\lib\\site-packages (1.26.4)\n",
      "Requirement already satisfied: pandas in c:\\users\\public\\appdata\\local\\programs\\python\\python312\\lib\\site-packages (2.2.2)\n",
      "Requirement already satisfied: attrs>=21.2 in c:\\users\\public\\appdata\\local\\programs\\python\\python312\\lib\\site-packages (from requests-cache) (23.2.0)\n",
      "Requirement already satisfied: cattrs>=22.2 in c:\\users\\public\\appdata\\local\\programs\\python\\python312\\lib\\site-packages (from requests-cache) (23.2.3)\n",
      "Requirement already satisfied: platformdirs>=2.5 in c:\\users\\东元哲\\appdata\\roaming\\python\\python312\\site-packages (from requests-cache) (4.2.1)\n",
      "Requirement already satisfied: requests>=2.22 in c:\\users\\public\\appdata\\local\\programs\\python\\python312\\lib\\site-packages (from requests-cache) (2.31.0)\n",
      "Requirement already satisfied: url-normalize>=1.4 in c:\\users\\public\\appdata\\local\\programs\\python\\python312\\lib\\site-packages (from requests-cache) (1.4.3)\n",
      "Requirement already satisfied: urllib3>=1.25.5 in c:\\users\\public\\appdata\\local\\programs\\python\\python312\\lib\\site-packages (from requests-cache) (2.2.1)\n",
      "Requirement already satisfied: python-dateutil>=2.8.2 in c:\\users\\东元哲\\appdata\\roaming\\python\\python312\\site-packages (from pandas) (2.9.0.post0)\n",
      "Requirement already satisfied: pytz>=2020.1 in c:\\users\\public\\appdata\\local\\programs\\python\\python312\\lib\\site-packages (from pandas) (2024.1)\n",
      "Requirement already satisfied: tzdata>=2022.7 in c:\\users\\public\\appdata\\local\\programs\\python\\python312\\lib\\site-packages (from pandas) (2024.1)\n",
      "Requirement already satisfied: six>=1.5 in c:\\users\\public\\appdata\\local\\programs\\python\\python312\\lib\\site-packages (from python-dateutil>=2.8.2->pandas) (1.16.0)\n",
      "Requirement already satisfied: charset-normalizer<4,>=2 in c:\\users\\public\\appdata\\local\\programs\\python\\python312\\lib\\site-packages (from requests>=2.22->requests-cache) (3.3.2)\n",
      "Requirement already satisfied: idna<4,>=2.5 in c:\\users\\public\\appdata\\local\\programs\\python\\python312\\lib\\site-packages (from requests>=2.22->requests-cache) (3.7)\n",
      "Requirement already satisfied: certifi>=2017.4.17 in c:\\users\\public\\appdata\\local\\programs\\python\\python312\\lib\\site-packages (from requests>=2.22->requests-cache) (2024.2.2)\n"
     ]
    }
   ],
   "source": [
    "# !pip install openmeteo-requests\n",
    "# !pip install requests-cache retry-requests numpy pandas\n",
    "# https://open-meteo.com/en/docs/historical-weather-api"
   ]
  },
  {
   "cell_type": "code",
   "execution_count": 9,
   "metadata": {},
   "outputs": [
    {
     "name": "stdout",
     "output_type": "stream",
     "text": [
      "Coordinates 40.52724075317383°N 17.1610164642334°E\n",
      "Elevation 17.0 m asl\n",
      "Timezone None None\n",
      "Timezone difference to GMT+0 0 s\n",
      "                         date  temperature_2m  wind_speed_10m  wind_speed_100m\n",
      "0   1960-05-12 00:00:00+00:00       13.991500        5.241679         7.491114\n",
      "1   1960-05-12 01:00:00+00:00       14.341499        5.760000         7.754637\n",
      "2   1960-05-12 02:00:00+00:00       14.491500        5.771239         7.862518\n",
      "3   1960-05-12 03:00:00+00:00       14.141500        5.447788         7.517021\n",
      "4   1960-05-12 04:00:00+00:00       12.691500        5.154416         6.489992\n",
      "..                        ...             ...             ...              ...\n",
      "355 1960-05-26 19:00:00+00:00       18.391500       26.932714        37.585098\n",
      "356 1960-05-26 20:00:00+00:00       17.841499       26.319420        37.446922\n",
      "357 1960-05-26 21:00:00+00:00       17.391500       27.002399        38.813274\n",
      "358 1960-05-26 22:00:00+00:00       17.041500       25.984919        36.656414\n",
      "359 1960-05-26 23:00:00+00:00       16.791500       27.757376        39.205303\n",
      "\n",
      "[360 rows x 4 columns]\n"
     ]
    }
   ],
   "source": [
    "import openmeteo_requests\n",
    "\n",
    "import requests_cache\n",
    "import pandas as pd\n",
    "from retry_requests import retry\n",
    "\n",
    "# Setup the Open-Meteo API client with cache and retry on error\n",
    "cache_session = requests_cache.CachedSession('.cache', expire_after = -1)\n",
    "retry_session = retry(cache_session, retries = 5, backoff_factor = 0.2)\n",
    "openmeteo = openmeteo_requests.Client(session = retry_session)\n",
    "\n",
    "# Make sure all required weather variables are listed here\n",
    "# The order of variables in hourly or daily is important to assign them correctly below\n",
    "url = \"https://archive-api.open-meteo.com/v1/archive\"\n",
    "params = {\n",
    "\t\"latitude\": 40.50196,\n",
    "\t\"longitude\": 17.21493,\n",
    "\t\"start_date\": \"1960-05-12\",\n",
    "\t\"end_date\": \"1960-05-26\",\n",
    "\t\"hourly\": [\"temperature_2m\", \"wind_speed_10m\", \"wind_speed_100m\"]\n",
    "}\n",
    "responses = openmeteo.weather_api(url, params=params)\n",
    "\n",
    "# Process first location. Add a for-loop for multiple locations or weather models\n",
    "response = responses[0]\n",
    "print(f\"Coordinates {response.Latitude()}°N {response.Longitude()}°E\")\n",
    "print(f\"Elevation {response.Elevation()} m asl\")\n",
    "print(f\"Timezone {response.Timezone()} {response.TimezoneAbbreviation()}\")\n",
    "print(f\"Timezone difference to GMT+0 {response.UtcOffsetSeconds()} s\")\n",
    "\n",
    "# Process hourly data. The order of variables needs to be the same as requested.\n",
    "hourly = response.Hourly()\n",
    "hourly_temperature_2m = hourly.Variables(0).ValuesAsNumpy()\n",
    "hourly_wind_speed_10m = hourly.Variables(1).ValuesAsNumpy()\n",
    "hourly_wind_speed_100m = hourly.Variables(2).ValuesAsNumpy()\n",
    "\n",
    "hourly_data = {\"date\": pd.date_range(\n",
    "\tstart = pd.to_datetime(hourly.Time(), unit = \"s\", utc = True),\n",
    "\tend = pd.to_datetime(hourly.TimeEnd(), unit = \"s\", utc = True),\n",
    "\tfreq = pd.Timedelta(seconds = hourly.Interval()),\n",
    "\tinclusive = \"left\"\n",
    ")}\n",
    "hourly_data[\"temperature_2m\"] = hourly_temperature_2m\n",
    "hourly_data[\"wind_speed_10m\"] = hourly_wind_speed_10m\n",
    "hourly_data[\"wind_speed_100m\"] = hourly_wind_speed_100m\n",
    "\n",
    "hourly_dataframe = pd.DataFrame(data = hourly_data)\n",
    "print(hourly_dataframe)"
   ]
  }
 ],
 "metadata": {
  "kernelspec": {
   "display_name": "Python 3",
   "language": "python",
   "name": "python3"
  },
  "language_info": {
   "codemirror_mode": {
    "name": "ipython",
    "version": 3
   },
   "file_extension": ".py",
   "mimetype": "text/x-python",
   "name": "python",
   "nbconvert_exporter": "python",
   "pygments_lexer": "ipython3",
   "version": "3.12.3"
  }
 },
 "nbformat": 4,
 "nbformat_minor": 2
}
